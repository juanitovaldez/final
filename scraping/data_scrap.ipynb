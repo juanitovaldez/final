{
 "cells": [
  {
   "cell_type": "markdown",
   "metadata": {},
   "source": [
    "# A 3d visualization of a random sample of NHL games this season. \n",
    "## This notebook represents several iterations and refinements to produce an original digraph dataset. Which as far as a cursory literature review hints at has never been done with hockey data. This merely scratches the surface of what is possibly with graphs, network analysis, and the combination of d3 and Threejs seen with the excellent https://github.com/vasturiano/3d-force-graph "
   ]
  },
  {
   "cell_type": "code",
   "execution_count": 1,
   "metadata": {},
   "outputs": [],
   "source": [
    "import requests\n",
    "import json\n",
    "import plotly.offline as py\n",
    "import plotly.graph_objs as go\n",
    "import random\n",
    "import networkx as nx\n",
    "from networkx.readwrite import json_graph\n",
    "from node2vec import Node2Vec\n"
   ]
  },
  {
   "cell_type": "code",
   "execution_count": 58,
   "metadata": {},
   "outputs": [],
   "source": [
    "# Gets the team roster to fill out the nodes for the desired season, sets up the api dictionary for easy use\n",
    "def get_raw_nhl_data(season_year):\n",
    "    api_dict = {'entry_url': r'https://statsapi.web.nhl.com/api/v1/',\n",
    "                'section': r'game',\n",
    "                'year': f'{season_year}',\n",
    "                'reg_season': r'02',\n",
    "                'options': r'/feed/live',\n",
    "                'team_url': r'https://statsapi.web.nhl.com/api/v1/teams',\n",
    "                'roster': r'?expand=team.roster'}\n",
    "    all_teams =  [requests.get(api_dict['team_url']).json()][0]['teams']\n",
    "    team_ids = [(all_teams[team]['id'], all_teams[team]['name']) for team, _ in enumerate(all_teams)]\n",
    "    nhl_roster = [requests.get(f'{api_dict[\"team_url\"]}/{team_ids[i][0]}{api_dict[\"roster\"]}').json() for i, _ in enumerate(team_ids)]\n",
    "    return nhl_roster, api_dict\n",
    "\n",
    "\n",
    "# These work well for igraph and plotly's thing. If I want to use d3, i might need a better format\n",
    "# Get's the roster for every team. Each player is a node. feed hockey_player into index_nodes\n",
    "def get_hockey_players(nhl_roster):\n",
    "    hockey_player = {}\n",
    "    i = 0\n",
    "    for index, team in enumerate(nhl_roster):\n",
    "        for i_num, mate in enumerate(nhl_roster[index]['teams'][0]['roster']['roster']):\n",
    "            hockey_player[nhl_roster[index]['teams'][0]['roster']['roster'][i_num]['person']['id']] = {'index': i, 'fullName': f\"{nhl_roster[index]['teams'][0]['roster']['roster'][i_num]['person']['fullName']}\", 'team': f\"{nhl_roster[index]['teams'][0]['name']}\"}\n",
    "            i += 1\n",
    "    return hockey_player\n",
    "\n",
    "# gets all the hockey games in the season\n",
    "def get_hockey_games(api_params, sample_size):\n",
    "    all_gnumbers = [f'{\"0\"*(4-len(str(i)))}{str(i)}' for i in range(1,1272)]\n",
    "    # All the games makes a messy visualization. Take a random sample\n",
    "    all_gids = [f'{api_params[\"year\"]}{api_params[\"reg_season\"]}{number}' for number in random.sample(all_gnumbers, sample_size)]\n",
    "    all_urls = [f'{api_params[\"entry_url\"]}{api_params[\"section\"]}/{game}{api_params[\"options\"]}' for game in all_gids]\n",
    "    all_data = [requests.get(f'{url}') for url in all_urls]\n",
    "    all_games = [data.json() for data in all_data if data.status_code == 200] \n",
    "    return all_games\n",
    "    \n",
    "# attaches an arbitrary index to each player. Used in edge/node ids\n",
    "def index_nodes(player_list):\n",
    "    i=0\n",
    "    nodes_indexed = {}\n",
    "    for p_id in r['gameData']['players']:\n",
    "         nodes_indexed[r['gameData']['players'][p_id]['id']] = {'index': i, 'fullName': r['gameData']['players'][p_id]['fullName'], 'team': r['gameData']['players'][p_id]['currentTeam']['id']}\n",
    "         i+=1\n",
    "    return nodes_indexed\n",
    "\n",
    "# creates the edge relationships between each node. returns a tuple. Also returns edges with players names for node2vec.\n",
    "def index_edges(game_list, node_list):\n",
    "    links = []\n",
    "    ml_edges = []\n",
    "    for index, game in enumerate(game_list):\n",
    "        all_plays = game['liveData']['plays']['allPlays']\n",
    "        for play in all_plays:\n",
    "            if  'players' in play.keys() and len(play['players'])==2:\n",
    "                if play['players'][0]['player']['id'] not in node_list.keys() or play['players'][1]['player']['id'] not in node_list.keys():\n",
    "                    continue\n",
    "                else:\n",
    "                    links.append((node_list[play['players'][0]['player']['id']]['index'], node_list[play['players'][1]['player']['id']]['index'], {'event_type': play['result']['event'], 'time_stamp': play['about']['dateTime']}))\n",
    "                    ml_edges.append((play['players'][0]['player']['fullName'], play['players'][1]['player']['fullName'], {'event_type': play['result']['event'], 'time_stamp': play['about']['dateTime']}))\n",
    "    return(ml_edges, links)\n",
    "\n",
    "# These functions format the node list into propper source, target, attributes we needf for use in forcegraph3d.js\n",
    "def format_nodes(node_list):\n",
    "    formated_nodes = [{'name': node_list[node]['fullName'].replace(\" \",\"\"), 'team':  node_list[node]['team'].replace(\" \", \"\"), 'id': node_list[node]['index']} for node in node_list]\n",
    "    return formated_nodes\n",
    "\n",
    "def format_links(link_list):\n",
    "    formated_links =  [{'source':link[0], 'target':link[1], 'data': {'type':link[2]['event_type'], 'time_stamp':link[2]['time_stamp']}} for link in link_list]\n",
    "    return formated_links\n",
    "\n",
    "def network_file(node_list, edge_list):\n",
    "    return {'nodes': node_list, 'links': edge_list}\n",
    "\n",
    "# This wraps up all of the above into a neat package for ready to go visualization and analysis\n",
    "def create_data(season_year, sample_size):\n",
    "    roster, entry_points = get_raw_nhl_data(season_year)\n",
    "    nhl_roster = get_hockey_players(roster)\n",
    "    sample_games = get_hockey_games(entry_points, sample_size)\n",
    "    ml_links, viz_links  = index_edges(sample_games, nhl_roster)\n",
    "    edges_formated = format_links(viz_links)\n",
    "    nodes_formated = format_nodes(nhl_roster)\n",
    "    network_params = network_file(nodes_formated, edges_formated)\n",
    "    with open(r'C:\\Users\\Juan\\bootcamp\\projects\\final\\js\\nhlpbp.json', 'w+') as jsondump:\n",
    "        json.dump(network_params, jsondump, indent=4,)\n",
    "    return(ml_links, network_params)"
   ]
  },
  {
   "cell_type": "code",
   "execution_count": 59,
   "metadata": {},
   "outputs": [],
   "source": [
    "ml_links, network_params = create_data(2019, 64)"
   ]
  },
  {
   "cell_type": "code",
   "execution_count": null,
   "metadata": {},
   "outputs": [],
   "source": [
    "GX = json_graph.node_link_graph(network_params, directed=True, multigraph=True)\n",
    "GX.nodes()\n",
    "node2vec = Node2Vec(GX, dimensions=32, walk_length=8, num_walks=512, workers=2) "
   ]
  },
  {
   "cell_type": "code",
   "execution_count": 61,
   "metadata": {},
   "outputs": [],
   "source": [
    "model = node2vec.fit(window=10, min_count=1)"
   ]
  },
  {
   "cell_type": "code",
   "execution_count": null,
   "metadata": {},
   "outputs": [],
   "source": [
    "for node, _ in model.most_similar('731'):\n",
    "    print(network_params['nodes'][int(node)])"
   ]
  },
  {
   "cell_type": "code",
   "execution_count": null,
   "metadata": {},
   "outputs": [],
   "source": []
  },
  {
   "cell_type": "markdown",
   "execution_count": null,
   "metadata": {},
   "outputs": [],
   "source": [
    "## Node Creation:\n",
    "The first step is to create each games nodes which is just the players So let's get a list of the players and an attributes (full_name, team)\n",
    "\n",
    "## Play Nodes:\n",
    "We might want nodes to be play classes, shot on goal, throway, hits, etc.. We'll see if it is necessary in a moment.\n"
   ]
  },
  {
   "cell_type": "markdown",
   "execution_count": null,
   "metadata": {},
   "outputs": [],
   "source": [
    "## Edge Creation:\n",
    "Now that we have nodes, we need to populate a list of edges. In this case an edge represents a play that involves 2 players (may extend to three players in the case of assists). With network x we can define an edge as a three-tuple (node_1, node_2, {attribute_dictionary}) so we are looking at (p_id_1, p_id_2, {})\n",
    "\n",
    "### Edge Attributes:\n",
    "What kind of things should the edges represent? type of play, outcome, timestamp, x,y coords? Keep it simple to start. Type of play and timestamp"
   ]
  },
  {
   "cell_type": "markdown",
   "execution_count": null,
   "metadata": {},
   "outputs": [],
   "source": []
  },
  {
   "cell_type": "code",
   "execution_count": null,
   "metadata": {},
   "outputs": [],
   "source": [
    "# import igraph as ig \n",
    "\n",
    "# N = len(nodes_indexed)\n",
    "# L = len(edges_indexed)\n",
    "# # edge = [link[:2] for link in links]\n",
    "# threeGee = ig.Graph(edges_indexed, directed=True)\n",
    "# threeGee.write_graphml('season_graph.graphml')"
   ]
  },
  {
   "cell_type": "code",
   "execution_count": null,
   "metadata": {},
   "outputs": [],
   "source": [
    "# threeGee.get_edgelist()"
   ]
  },
  {
   "cell_type": "code",
   "execution_count": null,
   "metadata": {},
   "outputs": [],
   "source": [
    "# labels=[nodes_indexed[node]['fullName'] for node in nodes_indexed]\n",
    "# group = [nodes_indexed[node]['team'] for node in nodes_indexed]\n",
    "# labels"
   ]
  },
  {
   "cell_type": "code",
   "execution_count": null,
   "metadata": {},
   "outputs": [],
   "source": [
    "# d3layt = threeGee.layout_auto(dim=3)"
   ]
  },
  {
   "cell_type": "markdown",
   "execution_count": null,
   "metadata": {},
   "outputs": [],
   "source": [
    "# Plotyly: Now it is time to implement the 3d graph network\n",
    "\n"
   ]
  },
  {
   "cell_type": "code",
   "execution_count": null,
   "metadata": {},
   "outputs": [],
   "source": [
    "# Xn=[d3layt[k][0] for k in range(N)]# x-coordinates of nodes\n",
    "# Yn=[d3layt[k][1] for k in range(N)]# y-coordinates\n",
    "# Zn=[d3layt[k][2] for k in range(N)]# z-coordinates\n",
    "# Xe=[]\n",
    "# Ye=[]\n",
    "# Ze=[]\n",
    "# for e in edges_indexed:\n",
    "#     Xe+=[d3layt[e[0]][0],d3layt[e[1]][0], None]# x-coordinates of edge ends\n",
    "#     Ye+=[d3layt[e[0]][1],d3layt[e[1]][1], None]\n",
    "#     Ze+=[d3layt[e[0]][2],d3layt[e[1]][2], None]"
   ]
  },
  {
   "cell_type": "code",
   "execution_count": null,
   "metadata": {},
   "outputs": [],
   "source": [
    "\n",
    "# trace1=go.Scatter3d(x=Xe,\n",
    "#                y=Ye,\n",
    "#                z=Ze,\n",
    "#                mode='lines',\n",
    "#                line=dict(color='rgb(125,125,125)', width=1),\n",
    "#                hoverinfo='none'\n",
    "#                )\n",
    "\n",
    "# trace2=go.Scatter3d(x=Xn,\n",
    "#                y=Yn,\n",
    "#                z=Zn,\n",
    "#                mode='markers',\n",
    "#                name='actors',\n",
    "#                marker=dict(symbol='circle',\n",
    "#                              size=6,\n",
    "#                             #  color=group,\n",
    "#                              colorscale='jet',\n",
    "#                              line=dict(color='rgb(50,50,50)', width=0.01)\n",
    "#                              ),\n",
    "#                 text=labels,\n",
    "#                 hoverinfo='text'\n",
    "#                )\n",
    "\n",
    "# axis=dict(showbackground=False,\n",
    "#           showline=False,\n",
    "#           zeroline=False,\n",
    "#           showgrid=False,\n",
    "#           showticklabels=False,\n",
    "#           title=''\n",
    "#           )\n",
    "\n",
    "# layout = go.Layout(\n",
    "#          title=\"Network of Interactions in a Hockey Game:(3D visualization)\",\n",
    "#          width=1000,\n",
    "#          height=1000,\n",
    "#          showlegend=False,\n",
    "#          scene=dict(\n",
    "#              xaxis=dict(axis),\n",
    "#              yaxis=dict(axis),\n",
    "#              zaxis=dict(axis),\n",
    "#         ),\n",
    "#      margin=dict(\n",
    "#         t=100\n",
    "#     ),\n",
    "#     hovermode='closest',\n",
    "#     annotations=[\n",
    "#            dict(\n",
    "#            showarrow=False,\n",
    "#             text=\"NHL API\",\n",
    "#             xref='paper',\n",
    "#             yref='paper',\n",
    "#             x=0,\n",
    "#             y=0.1,\n",
    "#             xanchor='left',\n",
    "#             yanchor='bottom',\n",
    "#             font=dict(\n",
    "#             size=14\n",
    "#             )\n",
    "#             )\n",
    "#         ],    )"
   ]
  },
  {
   "cell_type": "code",
   "execution_count": null,
   "metadata": {},
   "outputs": [],
   "source": [
    "      "
   ]
  }
 ],
 "metadata": {
  "file_extension": ".py",
  "kernelspec": {
   "display_name": "Python 3.7.4 64-bit ('base': conda)",
   "language": "python",
   "name": "python37464bitbasecondad5e8d36deb1d4b03830bc0e07d3a90bd"
  },
  "language_info": {
   "codemirror_mode": {
    "name": "ipython",
    "version": 3
   },
   "file_extension": ".py",
   "mimetype": "text/x-python",
   "name": "python",
   "nbconvert_exporter": "python",
   "pygments_lexer": "ipython3",
   "version": "3.7.4-final"
  },
  "mimetype": "text/x-python",
  "name": "python",
  "npconvert_exporter": "python",
  "pygments_lexer": "ipython3",
  "version": 3
 },
 "nbformat": 4,
 "nbformat_minor": 2
}